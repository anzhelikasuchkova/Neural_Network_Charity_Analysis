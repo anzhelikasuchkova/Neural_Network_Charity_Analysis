{
  "cells": [
    {
      "cell_type": "markdown",
      "metadata": {
        "id": "view-in-github",
        "colab_type": "text"
      },
      "source": [
        "<a href=\"https://colab.research.google.com/github/anzhelikasuchkova/Neural_Network_Charity_Analysis/blob/main/AlphabetSoupCharity.ipynb\" target=\"_parent\"><img src=\"https://colab.research.google.com/assets/colab-badge.svg\" alt=\"Open In Colab\"/></a>"
      ]
    },
    {
      "cell_type": "markdown",
      "metadata": {
        "id": "Lo2w6gwm6Nz2"
      },
      "source": [
        "### Deliverable 1: Preprocessing the Data for a Neural Network"
      ]
    },
    {
      "cell_type": "code",
      "execution_count": null,
      "metadata": {
        "id": "FegENKIE6Nz5"
      },
      "outputs": [],
      "source": [
        "# Import our dependencies\n",
        "from sklearn.model_selection import train_test_split\n",
        "from sklearn.preprocessing import StandardScaler,OneHotEncoder\n",
        "import pandas as pd\n",
        "import tensorflow as tf\n",
        "\n",
        "#  Import and read the charity_data.csv\n",
        "url = 'https://raw.githubusercontent.com/anzhelikasuchkova/Neural_Network_Charity_Analysis/main/charity_data.csv'\n",
        "\n",
        "application_df = pd.read_csv(url)\n",
        "application_df.head()"
      ]
    },
    {
      "cell_type": "code",
      "execution_count": null,
      "metadata": {
        "id": "wznrfuQ06Nz6"
      },
      "outputs": [],
      "source": [
        "# Drop the non-beneficial ID columns, 'EIN' and 'NAME'.\n",
        "application_df = application_df.drop(columns=\"EIN\")\n",
        "application_df  = application_df.drop(columns=\"NAME\")\n",
        "application_df"
      ]
    },
    {
      "cell_type": "code",
      "execution_count": null,
      "metadata": {
        "id": "rDaEYiaI6Nz7"
      },
      "outputs": [],
      "source": [
        "# Determine the number of unique values in each column.\n",
        "application_df.nunique()"
      ]
    },
    {
      "cell_type": "code",
      "execution_count": null,
      "metadata": {
        "id": "RSC4sJhM6Nz7"
      },
      "outputs": [],
      "source": [
        "# Look at APPLICATION_TYPE value counts for binning\n",
        "application_type= application_df[\"APPLICATION_TYPE\"].value_counts()\n",
        "application_type"
      ]
    },
    {
      "cell_type": "code",
      "execution_count": null,
      "metadata": {
        "id": "wOOEo0MF6Nz8"
      },
      "outputs": [],
      "source": [
        "# Visualize the value counts of APPLICATION_TYPE\n",
        "application_df[\"APPLICATION_TYPE\"].value_counts().plot.density()"
      ]
    },
    {
      "cell_type": "code",
      "execution_count": null,
      "metadata": {
        "id": "RAfnwOvB6Nz8"
      },
      "outputs": [],
      "source": [
        "# Determine which values to replace if counts are less than ...?\n",
        "replace_application= application_type[application_type < 500].index.tolist()\n",
        "\n",
        "# Replace in dataframe\n",
        "for app in replace_application:\n",
        "    application_df.APPLICATION_TYPE = application_df.APPLICATION_TYPE.replace(app,\"Other\")\n",
        "    \n",
        "# Check to make sure binning was successful\n",
        "application_df.APPLICATION_TYPE.value_counts()"
      ]
    },
    {
      "cell_type": "code",
      "execution_count": null,
      "metadata": {
        "id": "AnQGOizZ6Nz9"
      },
      "outputs": [],
      "source": [
        "# Look at CLASSIFICATION value counts for binning\n",
        "classification_value=application_df[\"CLASSIFICATION\"].value_counts()\n",
        "classification_value.head(50)"
      ]
    },
    {
      "cell_type": "code",
      "execution_count": null,
      "metadata": {
        "id": "i7gnLu-x6Nz9"
      },
      "outputs": [],
      "source": [
        "# Visualize the value counts of CLASSIFICATION\n",
        "classification_value.plot.density()"
      ]
    },
    {
      "cell_type": "code",
      "execution_count": null,
      "metadata": {
        "id": "tKEhzQUd6Nz-"
      },
      "outputs": [],
      "source": [
        "# Determine which values to replace if counts are less than ..?\n",
        "replace_class = list(classification_value[classification_value < 500].index)\n",
        "\n",
        "# Replace in dataframe\n",
        "for cls in replace_class:\n",
        "    application_df.CLASSIFICATION = application_df.CLASSIFICATION.replace(cls,\"Other\")\n",
        "    \n",
        "# Check to make sure binning was successful\n",
        "application_df.CLASSIFICATION.value_counts()"
      ]
    },
    {
      "cell_type": "code",
      "execution_count": null,
      "metadata": {
        "id": "stP06Jb76Nz_"
      },
      "outputs": [],
      "source": [
        "# Generate our categorical variable lists\n",
        "application_cat = application_df.dtypes[application_df.dtypes == \"object\"].index.tolist()\n",
        "application_cat"
      ]
    },
    {
      "cell_type": "code",
      "execution_count": null,
      "metadata": {
        "id": "olZQNxtW6Nz_"
      },
      "outputs": [],
      "source": [
        "# Create a OneHotEncoder instance\n",
        "enc = OneHotEncoder(sparse=False)\n",
        "\n",
        "# Fit and transform the OneHotEncoder using the categorical variable list\n",
        "encode_df = pd.DataFrame(enc.fit_transform(application_df[application_cat]))\n",
        "\n",
        "# Add the encoded variable names to the dataframe\n",
        "encode_df.columns = enc.get_feature_names(application_cat)\n",
        "encode_df.head()"
      ]
    },
    {
      "cell_type": "code",
      "execution_count": null,
      "metadata": {
        "id": "HQh7l3ij6Nz_"
      },
      "outputs": [],
      "source": [
        "# Merge one-hot encoded features and drop the originals\n",
        "application_df = application_df.merge(encode_df, left_index=True,right_index=True)\n",
        "application_df = application_df.drop(columns = application_cat)\n",
        "application_df.head()"
      ]
    },
    {
      "cell_type": "code",
      "execution_count": null,
      "metadata": {
        "id": "SDpTwJ7-6N0A"
      },
      "outputs": [],
      "source": [
        "# Split our preprocessed data into our features and target arrays\n",
        "y = application_df['IS_SUCCESSFUL'].values\n",
        "X = application_df.drop(['IS_SUCCESSFUL'],1).values\n",
        "\n",
        "# Split the preprocessed data into a training and testing dataset\n",
        "X_train, X_test, y_train, y_test = train_test_split(X, y, random_state=42)"
      ]
    },
    {
      "cell_type": "code",
      "execution_count": null,
      "metadata": {
        "id": "CgPGvgcu6N0A"
      },
      "outputs": [],
      "source": [
        "# Create a StandardScaler instances\n",
        "scaler = StandardScaler()\n",
        "\n",
        "# Fit the StandardScaler\n",
        "X_scaler = scaler.fit(X_train)\n",
        "\n",
        "# Scale the data\n",
        "X_train_scaled = X_scaler.transform(X_train)\n",
        "X_test_scaled = X_scaler.transform(X_test)"
      ]
    },
    {
      "cell_type": "markdown",
      "metadata": {
        "id": "wkaJzcte6N0A"
      },
      "source": [
        "### Deliverable 2: Compile, Train and Evaluate the Model"
      ]
    },
    {
      "cell_type": "code",
      "execution_count": 116,
      "metadata": {
        "id": "p4XNjqUH6N0A",
        "colab": {
          "base_uri": "https://localhost:8080/"
        },
        "outputId": "4ccd143d-ffe6-44f2-afe7-46fe8d104212"
      },
      "outputs": [
        {
          "output_type": "stream",
          "name": "stdout",
          "text": [
            "Model: \"sequential_13\"\n",
            "_________________________________________________________________\n",
            " Layer (type)                Output Shape              Param #   \n",
            "=================================================================\n",
            " dense_36 (Dense)            (None, 80)                3600      \n",
            "                                                                 \n",
            " dense_37 (Dense)            (None, 30)                2430      \n",
            "                                                                 \n",
            " dense_38 (Dense)            (None, 1)                 31        \n",
            "                                                                 \n",
            "=================================================================\n",
            "Total params: 6,061\n",
            "Trainable params: 6,061\n",
            "Non-trainable params: 0\n",
            "_________________________________________________________________\n"
          ]
        }
      ],
      "source": [
        "# Define the model - deep neural net, i.e., the number of input features and hidden nodes for each layer.\n",
        "number_input_features = len(X_train[0])\n",
        "hidden_nodes_layer1 =  80\n",
        "hidden_nodes_layer2 = 30\n",
        "\n",
        "nn = tf.keras.models.Sequential()\n",
        "\n",
        "# First hidden layer\n",
        "nn.add(tf.keras.layers.Dense(units=hidden_nodes_layer1, input_dim=number_input_features, activation=\"relu\"))\n",
        "\n",
        "# Second hidden layer\n",
        "nn.add(tf.keras.layers.Dense(units=hidden_nodes_layer2, activation=\"relu\"))\n",
        "\n",
        "# Output layer\n",
        "nn.add(tf.keras.layers.Dense(units=1, activation=\"sigmoid\"))\n",
        "\n",
        "# Check the structure of the model\n",
        "nn.summary()"
      ]
    },
    {
      "cell_type": "code",
      "execution_count": 117,
      "metadata": {
        "id": "5_BfQX-G6N0B"
      },
      "outputs": [],
      "source": [
        "# Compile the model\n",
        "nn.compile(loss=\"binary_crossentropy\", optimizer=\"adam\", metrics=[\"accuracy\"])"
      ]
    },
    {
      "cell_type": "code",
      "execution_count": 118,
      "metadata": {
        "id": "Lfb0Str56N0B",
        "colab": {
          "base_uri": "https://localhost:8080/"
        },
        "outputId": "5ca0f243-8d6b-405a-b7c2-00bd5eb15021"
      },
      "outputs": [
        {
          "output_type": "stream",
          "name": "stdout",
          "text": [
            "Epoch 1/100\n",
            "684/684 [==============================] - 3s 3ms/step - loss: 0.5735 - accuracy: 0.7170 - val_loss: 0.5503 - val_accuracy: 0.7313\n",
            "Epoch 2/100\n",
            "684/684 [==============================] - 2s 2ms/step - loss: 0.5575 - accuracy: 0.7269 - val_loss: 0.5471 - val_accuracy: 0.7383\n",
            "Epoch 3/100\n",
            "684/684 [==============================] - 2s 3ms/step - loss: 0.5534 - accuracy: 0.7272 - val_loss: 0.5456 - val_accuracy: 0.7352\n",
            "Epoch 4/100\n",
            "684/684 [==============================] - 2s 3ms/step - loss: 0.5516 - accuracy: 0.7312 - val_loss: 0.5439 - val_accuracy: 0.7344\n",
            "Epoch 5/100\n",
            "684/684 [==============================] - 2s 3ms/step - loss: 0.5502 - accuracy: 0.7305 - val_loss: 0.5436 - val_accuracy: 0.7362\n",
            "Epoch 6/100\n",
            "684/684 [==============================] - 2s 2ms/step - loss: 0.5487 - accuracy: 0.7317 - val_loss: 0.5434 - val_accuracy: 0.7359\n",
            "Epoch 7/100\n",
            "684/684 [==============================] - 2s 3ms/step - loss: 0.5484 - accuracy: 0.7322 - val_loss: 0.5440 - val_accuracy: 0.7321\n",
            "Epoch 8/100\n",
            "684/684 [==============================] - 2s 3ms/step - loss: 0.5481 - accuracy: 0.7303 - val_loss: 0.5460 - val_accuracy: 0.7344\n",
            "Epoch 9/100\n",
            "684/684 [==============================] - 2s 3ms/step - loss: 0.5477 - accuracy: 0.7310 - val_loss: 0.5454 - val_accuracy: 0.7336\n",
            "Epoch 10/100\n",
            "684/684 [==============================] - 2s 3ms/step - loss: 0.5458 - accuracy: 0.7322 - val_loss: 0.5446 - val_accuracy: 0.7341\n",
            "Epoch 11/100\n",
            "684/684 [==============================] - 2s 2ms/step - loss: 0.5457 - accuracy: 0.7335 - val_loss: 0.5446 - val_accuracy: 0.7315\n",
            "Epoch 12/100\n",
            "684/684 [==============================] - 2s 2ms/step - loss: 0.5451 - accuracy: 0.7304 - val_loss: 0.5469 - val_accuracy: 0.7346\n",
            "Epoch 13/100\n",
            "684/684 [==============================] - 2s 2ms/step - loss: 0.5453 - accuracy: 0.7338 - val_loss: 0.5428 - val_accuracy: 0.7313\n",
            "Epoch 14/100\n",
            "684/684 [==============================] - 2s 2ms/step - loss: 0.5448 - accuracy: 0.7315 - val_loss: 0.5464 - val_accuracy: 0.7352\n",
            "Epoch 15/100\n",
            "684/684 [==============================] - 2s 3ms/step - loss: 0.5444 - accuracy: 0.7319 - val_loss: 0.5449 - val_accuracy: 0.7295\n",
            "Epoch 16/100\n",
            "684/684 [==============================] - 2s 3ms/step - loss: 0.5434 - accuracy: 0.7340 - val_loss: 0.5458 - val_accuracy: 0.7359\n",
            "Epoch 17/100\n",
            "684/684 [==============================] - 2s 2ms/step - loss: 0.5430 - accuracy: 0.7344 - val_loss: 0.5461 - val_accuracy: 0.7362\n",
            "Epoch 18/100\n",
            "684/684 [==============================] - 2s 2ms/step - loss: 0.5428 - accuracy: 0.7350 - val_loss: 0.5521 - val_accuracy: 0.7310\n",
            "Epoch 19/100\n",
            "684/684 [==============================] - 2s 2ms/step - loss: 0.5432 - accuracy: 0.7333 - val_loss: 0.5433 - val_accuracy: 0.7328\n",
            "Epoch 20/100\n",
            "684/684 [==============================] - 2s 3ms/step - loss: 0.5428 - accuracy: 0.7347 - val_loss: 0.5442 - val_accuracy: 0.7367\n",
            "Epoch 21/100\n",
            "684/684 [==============================] - 2s 2ms/step - loss: 0.5418 - accuracy: 0.7352 - val_loss: 0.5459 - val_accuracy: 0.7336\n",
            "Epoch 22/100\n",
            "684/684 [==============================] - 2s 3ms/step - loss: 0.5418 - accuracy: 0.7355 - val_loss: 0.5436 - val_accuracy: 0.7352\n",
            "Epoch 23/100\n",
            "684/684 [==============================] - 2s 3ms/step - loss: 0.5421 - accuracy: 0.7348 - val_loss: 0.5431 - val_accuracy: 0.7365\n",
            "Epoch 24/100\n",
            "684/684 [==============================] - 2s 3ms/step - loss: 0.5415 - accuracy: 0.7348 - val_loss: 0.5440 - val_accuracy: 0.7378\n",
            "Epoch 25/100\n",
            "684/684 [==============================] - 2s 3ms/step - loss: 0.5414 - accuracy: 0.7349 - val_loss: 0.5447 - val_accuracy: 0.7349\n",
            "Epoch 26/100\n",
            "684/684 [==============================] - 2s 3ms/step - loss: 0.5412 - accuracy: 0.7351 - val_loss: 0.5424 - val_accuracy: 0.7344\n",
            "Epoch 27/100\n",
            "684/684 [==============================] - 2s 2ms/step - loss: 0.5407 - accuracy: 0.7343 - val_loss: 0.5457 - val_accuracy: 0.7334\n",
            "Epoch 28/100\n",
            "684/684 [==============================] - 2s 3ms/step - loss: 0.5406 - accuracy: 0.7357 - val_loss: 0.5435 - val_accuracy: 0.7349\n",
            "Epoch 29/100\n",
            "684/684 [==============================] - 2s 3ms/step - loss: 0.5404 - accuracy: 0.7371 - val_loss: 0.5408 - val_accuracy: 0.7372\n",
            "Epoch 30/100\n",
            "684/684 [==============================] - 2s 3ms/step - loss: 0.5400 - accuracy: 0.7353 - val_loss: 0.5422 - val_accuracy: 0.7354\n",
            "Epoch 31/100\n",
            "684/684 [==============================] - 2s 2ms/step - loss: 0.5400 - accuracy: 0.7371 - val_loss: 0.5447 - val_accuracy: 0.7341\n",
            "Epoch 32/100\n",
            "684/684 [==============================] - 2s 2ms/step - loss: 0.5400 - accuracy: 0.7357 - val_loss: 0.5421 - val_accuracy: 0.7375\n",
            "Epoch 33/100\n",
            "684/684 [==============================] - 2s 3ms/step - loss: 0.5400 - accuracy: 0.7351 - val_loss: 0.5420 - val_accuracy: 0.7359\n",
            "Epoch 34/100\n",
            "684/684 [==============================] - 2s 2ms/step - loss: 0.5394 - accuracy: 0.7351 - val_loss: 0.5433 - val_accuracy: 0.7344\n",
            "Epoch 35/100\n",
            "684/684 [==============================] - 2s 3ms/step - loss: 0.5396 - accuracy: 0.7365 - val_loss: 0.5435 - val_accuracy: 0.7334\n",
            "Epoch 36/100\n",
            "684/684 [==============================] - 2s 2ms/step - loss: 0.5392 - accuracy: 0.7371 - val_loss: 0.5456 - val_accuracy: 0.7362\n",
            "Epoch 37/100\n",
            "684/684 [==============================] - 2s 3ms/step - loss: 0.5390 - accuracy: 0.7378 - val_loss: 0.5427 - val_accuracy: 0.7375\n",
            "Epoch 38/100\n",
            "684/684 [==============================] - 2s 2ms/step - loss: 0.5391 - accuracy: 0.7375 - val_loss: 0.5439 - val_accuracy: 0.7354\n",
            "Epoch 39/100\n",
            "684/684 [==============================] - 2s 3ms/step - loss: 0.5386 - accuracy: 0.7381 - val_loss: 0.5428 - val_accuracy: 0.7357\n",
            "Epoch 40/100\n",
            "684/684 [==============================] - 2s 2ms/step - loss: 0.5387 - accuracy: 0.7372 - val_loss: 0.5468 - val_accuracy: 0.7292\n",
            "Epoch 41/100\n",
            "684/684 [==============================] - 2s 2ms/step - loss: 0.5381 - accuracy: 0.7372 - val_loss: 0.5427 - val_accuracy: 0.7367\n",
            "Epoch 42/100\n",
            "684/684 [==============================] - 2s 3ms/step - loss: 0.5387 - accuracy: 0.7371 - val_loss: 0.5417 - val_accuracy: 0.7365\n",
            "Epoch 43/100\n",
            "684/684 [==============================] - 2s 2ms/step - loss: 0.5385 - accuracy: 0.7370 - val_loss: 0.5457 - val_accuracy: 0.7354\n",
            "Epoch 44/100\n",
            "684/684 [==============================] - 2s 2ms/step - loss: 0.5377 - accuracy: 0.7384 - val_loss: 0.5462 - val_accuracy: 0.7378\n",
            "Epoch 45/100\n",
            "684/684 [==============================] - 2s 2ms/step - loss: 0.5385 - accuracy: 0.7381 - val_loss: 0.5436 - val_accuracy: 0.7354\n",
            "Epoch 46/100\n",
            "684/684 [==============================] - 2s 3ms/step - loss: 0.5376 - accuracy: 0.7386 - val_loss: 0.5439 - val_accuracy: 0.7354\n",
            "Epoch 47/100\n",
            "684/684 [==============================] - 2s 2ms/step - loss: 0.5378 - accuracy: 0.7379 - val_loss: 0.5432 - val_accuracy: 0.7339\n",
            "Epoch 48/100\n",
            "684/684 [==============================] - 2s 3ms/step - loss: 0.5378 - accuracy: 0.7391 - val_loss: 0.5448 - val_accuracy: 0.7365\n",
            "Epoch 49/100\n",
            "684/684 [==============================] - 2s 3ms/step - loss: 0.5373 - accuracy: 0.7383 - val_loss: 0.5458 - val_accuracy: 0.7352\n",
            "Epoch 50/100\n",
            "684/684 [==============================] - 2s 3ms/step - loss: 0.5373 - accuracy: 0.7379 - val_loss: 0.5435 - val_accuracy: 0.7349\n",
            "Epoch 51/100\n",
            "684/684 [==============================] - 2s 3ms/step - loss: 0.5377 - accuracy: 0.7375 - val_loss: 0.5430 - val_accuracy: 0.7362\n",
            "Epoch 52/100\n",
            "684/684 [==============================] - 2s 3ms/step - loss: 0.5374 - accuracy: 0.7389 - val_loss: 0.5446 - val_accuracy: 0.7344\n",
            "Epoch 53/100\n",
            "684/684 [==============================] - 2s 2ms/step - loss: 0.5372 - accuracy: 0.7378 - val_loss: 0.5463 - val_accuracy: 0.7336\n",
            "Epoch 54/100\n",
            "684/684 [==============================] - 2s 3ms/step - loss: 0.5368 - accuracy: 0.7381 - val_loss: 0.5445 - val_accuracy: 0.7339\n",
            "Epoch 55/100\n",
            "684/684 [==============================] - 2s 3ms/step - loss: 0.5366 - accuracy: 0.7392 - val_loss: 0.5451 - val_accuracy: 0.7352\n",
            "Epoch 56/100\n",
            "684/684 [==============================] - 2s 2ms/step - loss: 0.5369 - accuracy: 0.7380 - val_loss: 0.5470 - val_accuracy: 0.7331\n",
            "Epoch 57/100\n",
            "684/684 [==============================] - 2s 2ms/step - loss: 0.5369 - accuracy: 0.7384 - val_loss: 0.5454 - val_accuracy: 0.7349\n",
            "Epoch 58/100\n",
            "684/684 [==============================] - 2s 2ms/step - loss: 0.5364 - accuracy: 0.7389 - val_loss: 0.5442 - val_accuracy: 0.7344\n",
            "Epoch 59/100\n",
            "684/684 [==============================] - 2s 2ms/step - loss: 0.5363 - accuracy: 0.7385 - val_loss: 0.5481 - val_accuracy: 0.7334\n",
            "Epoch 60/100\n",
            "684/684 [==============================] - 2s 3ms/step - loss: 0.5364 - accuracy: 0.7384 - val_loss: 0.5498 - val_accuracy: 0.7321\n",
            "Epoch 61/100\n",
            "684/684 [==============================] - 2s 3ms/step - loss: 0.5361 - accuracy: 0.7391 - val_loss: 0.5453 - val_accuracy: 0.7349\n",
            "Epoch 62/100\n",
            "684/684 [==============================] - 2s 2ms/step - loss: 0.5362 - accuracy: 0.7367 - val_loss: 0.5434 - val_accuracy: 0.7354\n",
            "Epoch 63/100\n",
            "684/684 [==============================] - 2s 2ms/step - loss: 0.5359 - accuracy: 0.7378 - val_loss: 0.5454 - val_accuracy: 0.7336\n",
            "Epoch 64/100\n",
            "684/684 [==============================] - 2s 3ms/step - loss: 0.5363 - accuracy: 0.7378 - val_loss: 0.5447 - val_accuracy: 0.7326\n",
            "Epoch 65/100\n",
            "684/684 [==============================] - 2s 3ms/step - loss: 0.5359 - accuracy: 0.7381 - val_loss: 0.5442 - val_accuracy: 0.7354\n",
            "Epoch 66/100\n",
            "684/684 [==============================] - 2s 2ms/step - loss: 0.5363 - accuracy: 0.7382 - val_loss: 0.5466 - val_accuracy: 0.7344\n",
            "Epoch 67/100\n",
            "684/684 [==============================] - 2s 2ms/step - loss: 0.5361 - accuracy: 0.7400 - val_loss: 0.5443 - val_accuracy: 0.7323\n",
            "Epoch 68/100\n",
            "684/684 [==============================] - 2s 3ms/step - loss: 0.5356 - accuracy: 0.7382 - val_loss: 0.5486 - val_accuracy: 0.7349\n",
            "Epoch 69/100\n",
            "684/684 [==============================] - 2s 3ms/step - loss: 0.5360 - accuracy: 0.7385 - val_loss: 0.5457 - val_accuracy: 0.7344\n",
            "Epoch 70/100\n",
            "684/684 [==============================] - 2s 3ms/step - loss: 0.5359 - accuracy: 0.7382 - val_loss: 0.5450 - val_accuracy: 0.7341\n",
            "Epoch 71/100\n",
            "684/684 [==============================] - 2s 3ms/step - loss: 0.5359 - accuracy: 0.7387 - val_loss: 0.5466 - val_accuracy: 0.7349\n",
            "Epoch 72/100\n",
            "684/684 [==============================] - 2s 2ms/step - loss: 0.5356 - accuracy: 0.7383 - val_loss: 0.5441 - val_accuracy: 0.7344\n",
            "Epoch 73/100\n",
            "684/684 [==============================] - 2s 2ms/step - loss: 0.5351 - accuracy: 0.7389 - val_loss: 0.5456 - val_accuracy: 0.7292\n",
            "Epoch 74/100\n",
            "684/684 [==============================] - 2s 3ms/step - loss: 0.5352 - accuracy: 0.7389 - val_loss: 0.5494 - val_accuracy: 0.7328\n",
            "Epoch 75/100\n",
            "684/684 [==============================] - 2s 3ms/step - loss: 0.5354 - accuracy: 0.7392 - val_loss: 0.5464 - val_accuracy: 0.7344\n",
            "Epoch 76/100\n",
            "684/684 [==============================] - 2s 3ms/step - loss: 0.5354 - accuracy: 0.7392 - val_loss: 0.5461 - val_accuracy: 0.7336\n",
            "Epoch 77/100\n",
            "684/684 [==============================] - 2s 2ms/step - loss: 0.5351 - accuracy: 0.7389 - val_loss: 0.5457 - val_accuracy: 0.7344\n",
            "Epoch 78/100\n",
            "684/684 [==============================] - 2s 2ms/step - loss: 0.5351 - accuracy: 0.7380 - val_loss: 0.5461 - val_accuracy: 0.7352\n",
            "Epoch 79/100\n",
            "684/684 [==============================] - 2s 3ms/step - loss: 0.5351 - accuracy: 0.7385 - val_loss: 0.5458 - val_accuracy: 0.7339\n",
            "Epoch 80/100\n",
            "684/684 [==============================] - 2s 3ms/step - loss: 0.5354 - accuracy: 0.7390 - val_loss: 0.5459 - val_accuracy: 0.7349\n",
            "Epoch 81/100\n",
            "684/684 [==============================] - 2s 2ms/step - loss: 0.5348 - accuracy: 0.7394 - val_loss: 0.5459 - val_accuracy: 0.7341\n",
            "Epoch 82/100\n",
            "684/684 [==============================] - 2s 3ms/step - loss: 0.5346 - accuracy: 0.7388 - val_loss: 0.5458 - val_accuracy: 0.7331\n",
            "Epoch 83/100\n",
            "684/684 [==============================] - 2s 3ms/step - loss: 0.5349 - accuracy: 0.7385 - val_loss: 0.5456 - val_accuracy: 0.7336\n",
            "Epoch 84/100\n",
            "684/684 [==============================] - 2s 3ms/step - loss: 0.5346 - accuracy: 0.7395 - val_loss: 0.5460 - val_accuracy: 0.7334\n",
            "Epoch 85/100\n",
            "684/684 [==============================] - 2s 3ms/step - loss: 0.5348 - accuracy: 0.7401 - val_loss: 0.5464 - val_accuracy: 0.7344\n",
            "Epoch 86/100\n",
            "684/684 [==============================] - 2s 2ms/step - loss: 0.5346 - accuracy: 0.7385 - val_loss: 0.5477 - val_accuracy: 0.7344\n",
            "Epoch 87/100\n",
            "684/684 [==============================] - 2s 3ms/step - loss: 0.5344 - accuracy: 0.7380 - val_loss: 0.5480 - val_accuracy: 0.7321\n",
            "Epoch 88/100\n",
            "684/684 [==============================] - 2s 3ms/step - loss: 0.5343 - accuracy: 0.7390 - val_loss: 0.5482 - val_accuracy: 0.7323\n",
            "Epoch 89/100\n",
            "684/684 [==============================] - 2s 3ms/step - loss: 0.5346 - accuracy: 0.7389 - val_loss: 0.5529 - val_accuracy: 0.7318\n",
            "Epoch 90/100\n",
            "684/684 [==============================] - 2s 3ms/step - loss: 0.5341 - accuracy: 0.7385 - val_loss: 0.5480 - val_accuracy: 0.7334\n",
            "Epoch 91/100\n",
            "684/684 [==============================] - 2s 3ms/step - loss: 0.5349 - accuracy: 0.7391 - val_loss: 0.5521 - val_accuracy: 0.7336\n",
            "Epoch 92/100\n",
            "684/684 [==============================] - 2s 2ms/step - loss: 0.5345 - accuracy: 0.7392 - val_loss: 0.5468 - val_accuracy: 0.7349\n",
            "Epoch 93/100\n",
            "684/684 [==============================] - 2s 3ms/step - loss: 0.5346 - accuracy: 0.7390 - val_loss: 0.5475 - val_accuracy: 0.7346\n",
            "Epoch 94/100\n",
            "684/684 [==============================] - 2s 3ms/step - loss: 0.5346 - accuracy: 0.7391 - val_loss: 0.5471 - val_accuracy: 0.7341\n",
            "Epoch 95/100\n",
            "684/684 [==============================] - 2s 3ms/step - loss: 0.5339 - accuracy: 0.7395 - val_loss: 0.5491 - val_accuracy: 0.7334\n",
            "Epoch 96/100\n",
            "684/684 [==============================] - 2s 3ms/step - loss: 0.5341 - accuracy: 0.7397 - val_loss: 0.5462 - val_accuracy: 0.7349\n",
            "Epoch 97/100\n",
            "684/684 [==============================] - 2s 3ms/step - loss: 0.5342 - accuracy: 0.7392 - val_loss: 0.5469 - val_accuracy: 0.7326\n",
            "Epoch 98/100\n",
            "684/684 [==============================] - 2s 3ms/step - loss: 0.5341 - accuracy: 0.7394 - val_loss: 0.5484 - val_accuracy: 0.7336\n",
            "Epoch 99/100\n",
            "684/684 [==============================] - 2s 3ms/step - loss: 0.5342 - accuracy: 0.7401 - val_loss: 0.5491 - val_accuracy: 0.7331\n",
            "Epoch 100/100\n",
            "684/684 [==============================] - 2s 3ms/step - loss: 0.5339 - accuracy: 0.7400 - val_loss: 0.5498 - val_accuracy: 0.7321\n"
          ]
        }
      ],
      "source": [
        "# Train the model\n",
        "fit_model = nn.fit(X_train_scaled,y_train,validation_split=0.15, epochs=100)"
      ]
    },
    {
      "cell_type": "code",
      "execution_count": 119,
      "metadata": {
        "id": "YOSqyleJ6N0B",
        "colab": {
          "base_uri": "https://localhost:8080/"
        },
        "outputId": "ba1a0fb3-9a32-480e-d3a5-c0a121e48fda"
      },
      "outputs": [
        {
          "output_type": "stream",
          "name": "stdout",
          "text": [
            "268/268 - 0s - loss: 0.5627 - accuracy: 0.7298 - 417ms/epoch - 2ms/step\n",
            "Loss: 0.5627303123474121, Accuracy: 0.7297959327697754\n"
          ]
        }
      ],
      "source": [
        "# Evaluate the model using the test data\n",
        "model_loss, model_accuracy = nn.evaluate(X_test_scaled,y_test,verbose=2)\n",
        "print(f\"Loss: {model_loss}, Accuracy: {model_accuracy}\")"
      ]
    },
    {
      "cell_type": "code",
      "execution_count": null,
      "metadata": {
        "id": "ozuvVT2B6N0B"
      },
      "outputs": [],
      "source": [
        "nn.save(\"AlphabetSoupCharity.h5\")"
      ]
    }
  ],
  "metadata": {
    "kernelspec": {
      "display_name": "PythonData",
      "language": "python",
      "name": "pythondata"
    },
    "language_info": {
      "codemirror_mode": {
        "name": "ipython",
        "version": 3
      },
      "file_extension": ".py",
      "mimetype": "text/x-python",
      "name": "python",
      "nbconvert_exporter": "python",
      "pygments_lexer": "ipython3",
      "version": "3.7.7"
    },
    "colab": {
      "name": "AlphabetSoupCharity.ipynb",
      "provenance": [],
      "collapsed_sections": [],
      "include_colab_link": true
    }
  },
  "nbformat": 4,
  "nbformat_minor": 0
}